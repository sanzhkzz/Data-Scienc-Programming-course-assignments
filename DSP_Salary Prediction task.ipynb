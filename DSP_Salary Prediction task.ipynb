{
 "cells": [
  {
   "cell_type": "markdown",
   "metadata": {},
   "source": [
    "## Problem 1 (20%)\n",
    "Imagine you are studying salaries of Data Scientists in Kazakhstan. It is known that the salaries are Normally distributed with a mean of 550k tenge and standard deviation of 65k tenge. Based on that information, answer the following questions: \n",
    "\n",
    "1. Find the most frequently paid salary level. Justify your answer.\n",
    "2. Find the minimum salary level that corresponds among Top 10% salaries of Data Scientists.\n",
    "3. For a randomly selected data scientist, find the probability of his salary being between 500k and 600k tenge?\n",
    "4. If we have a sample of 200 data scientiest, how many of them should have salary above 625 tenge? Round your answer to the closest integer."
   ]
  },
  {
   "cell_type": "code",
   "execution_count": 39,
   "metadata": {},
   "outputs": [
    {
     "data": {
      "text/plain": [
       "<scipy.stats._distn_infrastructure.rv_frozen at 0x16e5f0fc9a0>"
      ]
     },
     "execution_count": 39,
     "metadata": {},
     "output_type": "execute_result"
    }
   ],
   "source": [
    "from scipy import stats\n",
    "import pandas as pd\n",
    "import numpy as np\n",
    "import os\n",
    "from matplotlib import pyplot as plt\n",
    "import seaborn as sns\n",
    "from math import sqrt\n",
    "from scipy.stats import norm\n",
    "\n",
    "stats.norm(loc=550, scale=65)\n"
   ]
  },
  {
   "cell_type": "markdown",
   "metadata": {},
   "source": [
    "**Q1.1. Find the most frequently paid salary level. Justify your answer.**\n",
    "\n",
    "According to the normal distribution properties , the most frequently paid salary is equal to mode . As we know mode is equal to mean , therefore answer will be 550k tenge\n",
    "\n",
    "$$ MODE=MEAN=MEDIAN$$"
   ]
  },
  {
   "cell_type": "markdown",
   "metadata": {},
   "source": [
    "**Q1.2.Find the minimum salary level that corresponds among Top 10% salaries of Data Scientists.**"
   ]
  },
  {
   "cell_type": "code",
   "execution_count": 53,
   "metadata": {},
   "outputs": [
    {
     "name": "stdout",
     "output_type": "stream",
     "text": [
      "The minimum salary for top 10% : 541.83201\n"
     ]
    }
   ],
   "source": [
    "mu,sigma=550,65\n",
    "top_10=norm.interval(alpha=0.1,loc=mu,scale=sigma)\n",
    "print('The minimum salary for top 10% :', round(top_10[0],5))"
   ]
  },
  {
   "cell_type": "markdown",
   "metadata": {},
   "source": [
    "**Q1.3.For a randomly selected data scientist, find the probability of his salary being between 500k and 600k tenge?**"
   ]
  },
  {
   "cell_type": "code",
   "execution_count": 37,
   "metadata": {},
   "outputs": [
    {
     "name": "stdout",
     "output_type": "stream",
     "text": [
      " Probability for between 400 & 500  KZT :  0.789\n"
     ]
    }
   ],
   "source": [
    "# Q1.3. to find the probability BETWEEN 2 variables:\n",
    "task3 = stats.norm(loc=550,scale=65).cdf(600) - stats.norm(loc=550,scale=65).cdf(500)\n",
    "print(\" Probability for between 400 & 500  KZT : \",np.round(task4, 3))"
   ]
  },
  {
   "cell_type": "markdown",
   "metadata": {},
   "source": [
    "**Q1.4.If we have a sample of 200 data scientiest, how many of them should have salary above 625 tenge? Round your answer to the closest integer.**"
   ]
  },
  {
   "cell_type": "code",
   "execution_count": 55,
   "metadata": {},
   "outputs": [
    {
     "name": "stdout",
     "output_type": "stream",
     "text": [
      " Probability for 200 people , with salary above than 625 :  0\n"
     ]
    }
   ],
   "source": [
    "import math\n",
    "scale=65/(math.sqrt(200))\n",
    "abov_625=norm.sf(x=625,loc=550,scale=scale)\n",
    "print(\" Probability for 200 people , with salary above than 625 : \",round(abov_625))"
   ]
  },
  {
   "cell_type": "markdown",
   "metadata": {},
   "source": [
    "## Problem 2 (20%)\n",
    "Imagine you are studying student average daily spending. You have sample for that data (sample_2 below).\n",
    "Tasks to do:\n",
    "1. Based on this sample countruct 95% confidence interval for population mean of student daily spending. Describe steps that you do and provide assumptions if you made any. \n",
    "2. Is there an evidence that average daily spending of students is lower than 40 USD per day?"
   ]
  },
  {
   "cell_type": "code",
   "execution_count": 58,
   "metadata": {},
   "outputs": [],
   "source": [
    "# Note that data is provided in USD. \n",
    "import numpy as np\n",
    "import scipy.stats as st \n",
    "from scipy.stats import t\n",
    "sample_2 = [45, 25, 30, 35, 28, 41, 56, 38, 42, 25, 37, 23, 42, 50, 28, 34, 43, 30, 26, 22, 29, 32, 30, 44, 49]\n"
   ]
  },
  {
   "cell_type": "markdown",
   "metadata": {},
   "source": [
    "**Q1.1.Based on this sample countruct 95% confidence interval for population mean of student daily spending. Describe steps that you do and provide assumptions if you made any.**"
   ]
  },
  {
   "cell_type": "code",
   "execution_count": 57,
   "metadata": {},
   "outputs": [
    {
     "data": {
      "text/plain": [
       "25"
      ]
     },
     "execution_count": 57,
     "metadata": {},
     "output_type": "execute_result"
    }
   ],
   "source": [
    "len(sample_2)"
   ]
  },
  {
   "cell_type": "markdown",
   "metadata": {},
   "source": [
    "**Because size of sample is equal to 25 , which is less than 30 , we're capable to use here t-interval for more accurate calculations instead of normal distribution**."
   ]
  },
  {
   "cell_type": "code",
   "execution_count": 56,
   "metadata": {},
   "outputs": [
    {
     "name": "stdout",
     "output_type": "stream",
     "text": [
      "Lower bound using t interval: 31.532\n",
      "Upper bound using t interval: 39.188\n"
     ]
    }
   ],
   "source": [
    "# ci_95 = stats.norm.interval(alpha=0.95, loc=np.mean(sample_2), scale=np.std(sample_2)/np.sqrt(len(sample_2)))\n",
    "\n",
    "ci_95_t = t.interval(alpha=0.95, df=len(sample_2)-1, loc=np.mean(sample_2), scale=st.sem(sample_2))\n",
    "\n",
    "\n",
    "# print('Lower bound:', round(ci_95[0], 3))\n",
    "# print('Upper bound:', round(ci_95[1], 3))\n",
    "\n",
    "\n",
    "print('Lower bound using t interval:', round(ci_95_t[0], 3))\n",
    "print('Upper bound using t interval:', round(ci_95_t[1], 3))"
   ]
  },
  {
   "cell_type": "markdown",
   "metadata": {},
   "source": [
    "**Q2.2.Is there an evidence that average daily spending of students is lower than 40 USD per day?**\n",
    "\n",
    "It can be seen that, 40 does not fall into our 95% confidence interval of mean GPA for SE. Moreover, 40 is located to the right of that interval, which means that if we take a lot of samples of salaries, we will expect that 95% of them will have sample mean higher than 40. "
   ]
  },
  {
   "cell_type": "markdown",
   "metadata": {},
   "source": [
    "## Problem 3 (30%)\n",
    "Imagine you are studying GPA of students at AITU. You get a sample of 40 students, and obtained sample mean of 3.3 and sample standard deviation 0.35. \n",
    "1. Construct 95% and 99% confidence intervals for mean GPA. \n",
    "2. Show the width of each interval. Explain how different factors affect to the width of the interval.\n",
    "2. For 99% confidence interval, how many more observations should be added to the sample, so that confidence interval for μ was within 0.1 unit?"
   ]
  },
  {
   "cell_type": "markdown",
   "metadata": {},
   "source": [
    "**Q1.1.Construct 95% and 99% confidence intervals for mean GPA.**"
   ]
  },
  {
   "cell_type": "code",
   "execution_count": 74,
   "metadata": {},
   "outputs": [
    {
     "data": {
      "text/plain": [
       "array([2.83346516, 3.12607821, 3.54280656, 3.20287889, 3.92216149,\n",
       "       3.2725786 , 3.20691407, 2.88704641, 3.16934497, 3.3379173 ,\n",
       "       3.4976349 , 3.81408371, 3.15827638, 4.16301823, 3.17293237,\n",
       "       3.23267571, 2.74605225, 2.76575951, 3.43313391, 3.16191373,\n",
       "       3.17818618, 3.15130319, 2.99918652, 3.14491578, 3.33159856,\n",
       "       3.1629114 , 3.41769711, 3.54207431, 3.22026595, 3.00900669,\n",
       "       2.69982908, 3.27215952, 3.87465803, 3.59158572, 2.88823087,\n",
       "       3.14297031, 3.27037118, 3.11425813, 3.10086142, 3.19363165])"
      ]
     },
     "execution_count": 74,
     "metadata": {},
     "output_type": "execute_result"
    },
    {
     "data": {
      "image/png": "[encoded data removed]",
      "text/plain": [
       "<Figure size 432x288 with 1 Axes>"
      ]
     },
     "metadata": {
      "needs_background": "light"
     },
     "output_type": "display_data"
    }
   ],
   "source": [
    "\n",
    "n = 40\n",
    "mu, sigma = 3.3, 0.35\n",
    "s = np.random.normal(mu, sigma, n)\n",
    "plt.hist(x=s, bins=20, density=True);\n",
    "\n",
    "s"
   ]
  },
  {
   "cell_type": "markdown",
   "metadata": {},
   "source": [
    "**95% confidence interval** "
   ]
  },
  {
   "cell_type": "code",
   "execution_count": 84,
   "metadata": {},
   "outputs": [
    {
     "name": "stdout",
     "output_type": "stream",
     "text": [
      "Lower bound: 3.151\n",
      "Upper bound: 3.347\n",
      "ci_95: (3.15072894762338, 3.3468897518870127)\n"
     ]
    }
   ],
   "source": [
    "s_mean = np.mean(s) \n",
    "s_std = np.std(s, ddof=1)\n",
    "size_s = len(s)\n",
    "\n",
    "s_95 = stats.norm.interval(alpha=0.95, loc=s_mean, scale=s_std/np.sqrt(size_s))\n",
    "print('Lower bound:', round(s_95[0], 3))\n",
    "print('Upper bound:', round(s_95[1], 3))\n",
    "print('ci_95:', s_95)"
   ]
  },
  {
   "cell_type": "markdown",
   "metadata": {},
   "source": [
    "**99% confidence interval** "
   ]
  },
  {
   "cell_type": "code",
   "execution_count": 83,
   "metadata": {},
   "outputs": [
    {
     "name": "stdout",
     "output_type": "stream",
     "text": [
      "Lower bound: 3.12\n",
      "Upper bound: 3.378\n",
      "ci_99: (3.119909851648205, 3.3777088478621877)\n"
     ]
    }
   ],
   "source": [
    "s_99 = stats.norm.interval(alpha=0.99, loc=s_mean, scale=s_std/np.sqrt(size_s))\n",
    "print('Lower bound:', round(s_99[0], 3))\n",
    "print('Upper bound:', round(s_99[1], 3))\n",
    "\n",
    "print('ci_99:', s_99)"
   ]
  },
  {
   "cell_type": "markdown",
   "metadata": {},
   "source": [
    "**Q3.2.Show the width of each interval. Explain how different factors affect to the width of the interval.**"
   ]
  },
  {
   "cell_type": "markdown",
   "metadata": {},
   "source": [
    "The width of the confidence interval for an individual study depends to a large extent on the sample size. Larger studies tend to give more precise estimates of effects (and hence have narrower confidence intervals) than smaller studies.\n",
    "\n",
    "To get higher confidence, we need to make the interval wider interval. This is evident in the multiplier, which increases with confidence level. b) If you increase sample size, the width of confidence intervals will increase."
   ]
  },
  {
   "cell_type": "code",
   "execution_count": 72,
   "metadata": {},
   "outputs": [
    {
     "data": {
      "text/plain": [
       "0.20261338104240156"
      ]
     },
     "execution_count": 72,
     "metadata": {},
     "output_type": "execute_result"
    }
   ],
   "source": [
    "ci_width_95=s_95[1]-s_95[0]\n",
    "ci_width_95"
   ]
  },
  {
   "cell_type": "code",
   "execution_count": 73,
   "metadata": {},
   "outputs": [
    {
     "data": {
      "text/plain": [
       "0.2629295633393003"
      ]
     },
     "execution_count": 73,
     "metadata": {},
     "output_type": "execute_result"
    }
   ],
   "source": [
    "ci_width_99=s_99[1]-s_99[0]\n",
    "ci_width_99"
   ]
  },
  {
   "cell_type": "markdown",
   "metadata": {},
   "source": [
    "**Q3.3.For 99% confidence interval, how many more observations should be added to the sample, so that confidence interval for μ was within 0.1 unit?**"
   ]
  },
  {
   "cell_type": "code",
   "execution_count": 89,
   "metadata": {},
   "outputs": [
    {
     "name": "stderr",
     "output_type": "stream",
     "text": [
      "C:\\Program Files\\Python\\lib\\site-packages\\numpy\\lib\\histograms.py:905: RuntimeWarning: invalid value encountered in true_divide\n",
      "  return n/db/n.sum(), bin_edges\n"
     ]
    },
    {
     "data": {
      "image/png": "[encoded data removed]",
      "text/plain": [
       "<Figure size 432x288 with 1 Axes>"
      ]
     },
     "metadata": {
      "needs_background": "light"
     },
     "output_type": "display_data"
    }
   ],
   "source": [
    "n2 = ci_width_99/2\n",
    "mu, sigma = 3.3, 0.35\n",
    "s1 = np.random.normal(mu, sigma, round(n2))\n",
    "plt.hist(x=s1, bins=20, density=True);\n"
   ]
  },
  {
   "cell_type": "markdown",
   "metadata": {},
   "source": [
    "## Problem 4 (30%)\n",
    "Imagine you are studying performance of school graduates at ENT and you have data for two different schools (KTL and NIS). Data provided below. Tasks to do:\n",
    "1. Test the hypothesis that the average ENT score is more than 100 for KTL. Use both critical region approach and P-value approach.\n",
    "2. Test the hypothesis that two schools had similar performance on ENT. Use only one of the two approaches.\n",
    "\n",
    "State the hypothesis, and then perform the test. Choose correct procedure of choosing significance levels. Derive proper conclusion in the context of the problem."
   ]
  },
  {
   "cell_type": "code",
   "execution_count": 59,
   "metadata": {},
   "outputs": [
    {
     "data": {
      "text/plain": [
       "49"
      ]
     },
     "execution_count": 59,
     "metadata": {},
     "output_type": "execute_result"
    }
   ],
   "source": [
    "data_ktl = [88, 91, 86, 92, 90, 93, 95, 78, 87, 98, 82,  117, 138, 97,\n",
    "            120, 119, 108, 103, 121, 139, 88, 95, 106, 110, 123, 90,\n",
    "           129, 102, 136, 119, 121, 114, 122, 103, 81, 75,  133, 119,\n",
    "           105, 125, 103, 97, 126, 118, 104, 112, 100, 92, 121]\n",
    "len(data_ktl)"
   ]
  },
  {
   "cell_type": "code",
   "execution_count": 60,
   "metadata": {},
   "outputs": [
    {
     "data": {
      "text/plain": [
       "44"
      ]
     },
     "execution_count": 60,
     "metadata": {},
     "output_type": "execute_result"
    }
   ],
   "source": [
    "data_nis = [72, 93, 95, 117, 94, 97, 103, 97, 80, 103, 84, 88, \n",
    "            120, 119, 108,  92, 82, 88, 95, 106, 110, 99, 90, \n",
    "            77, 102, 78, 87, 98, 82, 119, 72, 84, 103, 81, 75,   \n",
    "            105, 78,  104, 100, 92, 99, 91, 86, 100]\n",
    "len(data_nis)"
   ]
  },
  {
   "cell_type": "markdown",
   "metadata": {},
   "source": [
    "$$ H_0: \\mu \\geq 100$$ \n",
    "$$ H_1: \\mu < 100$$ "
   ]
  },
  {
   "cell_type": "code",
   "execution_count": null,
   "metadata": {},
   "outputs": [],
   "source": [
    "list_diff = [(data_ktl[i] - data_[i]) for i in range(len(list_after))]\n",
    "print(list_diff)"
   ]
  },
  {
   "cell_type": "markdown",
   "metadata": {},
   "source": [
    "---\n",
    "\n",
    "### Evaluation (Keep it!)\n",
    "\n",
    "| Question | Mark     | Comment   \n",
    "|:-------:|:--------:|:----------------------\n",
    "| 1       |   20/20    |     \n",
    "| 2       |   20/20 | \n",
    "| 3       |   30/30    |     \n",
    "| 4       |   30/30 | \n",
    "|**Total**|**100/100**  | \n"
   ]
  }
 ],
 "metadata": {
  "kernelspec": {
   "display_name": "Python 3",
   "language": "python",
   "name": "python3"
  },
  "language_info": {
   "codemirror_mode": {
    "name": "ipython",
    "version": 3
   },
   "file_extension": ".py",
   "mimetype": "text/x-python",
   "name": "python",
   "nbconvert_exporter": "python",
   "pygments_lexer": "ipython3",
   "version": "3.8.5"
  }
 },
 "nbformat": 4,
 "nbformat_minor": 5
}
